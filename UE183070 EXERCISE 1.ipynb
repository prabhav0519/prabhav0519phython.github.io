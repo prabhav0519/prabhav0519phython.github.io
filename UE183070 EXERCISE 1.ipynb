{
 "cells": [
  {
   "cell_type": "code",
   "execution_count": 22,
   "metadata": {},
   "outputs": [
    {
     "data": {
      "text/plain": [
       "25"
      ]
     },
     "execution_count": 22,
     "metadata": {},
     "output_type": "execute_result"
    }
   ],
   "source": [
    "10 + 15"
   ]
  },
  {
   "cell_type": "code",
   "execution_count": 2,
   "metadata": {},
   "outputs": [
    {
     "name": "stdout",
     "output_type": "stream",
     "text": [
      "Hello World!\n"
     ]
    }
   ],
   "source": [
    "print(\"Hello World!\")"
   ]
  },
  {
   "cell_type": "code",
   "execution_count": 3,
   "metadata": {},
   "outputs": [
    {
     "data": {
      "text/plain": [
       "11"
      ]
     },
     "execution_count": 3,
     "metadata": {},
     "output_type": "execute_result"
    }
   ],
   "source": [
    "45 - 34"
   ]
  },
  {
   "cell_type": "code",
   "execution_count": 4,
   "metadata": {},
   "outputs": [
    {
     "data": {
      "text/plain": [
       "16"
      ]
     },
     "execution_count": 4,
     "metadata": {},
     "output_type": "execute_result"
    }
   ],
   "source": [
    "8 * 2"
   ]
  },
  {
   "cell_type": "code",
   "execution_count": 5,
   "metadata": {},
   "outputs": [
    {
     "name": "stdout",
     "output_type": "stream",
     "text": [
      "Rahul's age is 45\n"
     ]
    }
   ],
   "source": [
    "print(\"Rahul's age is\", 45)"
   ]
  },
  {
   "cell_type": "code",
   "execution_count": 6,
   "metadata": {},
   "outputs": [
    {
     "name": "stdout",
     "output_type": "stream",
     "text": [
      "I have 10 mangoes and 12 bananas\n"
     ]
    }
   ],
   "source": [
    "print(\"I have\", 10, \"mangoes and\", 12, \"bananas\")"
   ]
  },
  {
   "cell_type": "code",
   "execution_count": 7,
   "metadata": {},
   "outputs": [
    {
     "name": "stdout",
     "output_type": "stream",
     "text": [
      "Employee Number: 1233\n",
      "Employee Salary and Name: 16745.5 Jerry Squaris\n",
      "Updated Employee Salary: 23450.34\n"
     ]
    }
   ],
   "source": [
    "emp_number = 1233\n",
    "print(\"Employee Number:\", emp_number)\n",
    "emp_salary = 16745.50\n",
    "emp_name = \"Jerry Squaris\"\n",
    "print(\"Employee Salary and Name:\", emp_salary, emp_name)\n",
    "emp_salary = 23450.34\n",
    "print(\"Updated Employee Salary:\", emp_salary)"
   ]
  },
  {
   "cell_type": "code",
   "execution_count": 8,
   "metadata": {},
   "outputs": [
    {
     "name": "stdout",
     "output_type": "stream",
     "text": [
      "<class 'int'>\n",
      "<class 'str'>\n",
      "<class 'float'>\n",
      "<class 'complex'>\n",
      "101 John 675.45\n",
      "5.3\n",
      "3.9\n",
      "<class 'bool'>\n"
     ]
    }
   ],
   "source": [
    "customer_id = 101\n",
    "print(type(customer_id))\n",
    "customer_name = \"John\"\n",
    "print(type(customer_name))\n",
    "bill_amount = 675.45\n",
    "print(type(bill_amount ))\n",
    "x = 5.3 + 0.9j\n",
    "print(type(x))\n",
    "print(customer_id, customer_name, bill_amount)\n",
    "print(x.real)\n",
    "print(x.imag + 3)\n",
    "Flag = True\n",
    "print(type(Flag))\n",
    "y = \"False\""
   ]
  },
  {
   "cell_type": "code",
   "execution_count": 9,
   "metadata": {},
   "outputs": [
    {
     "name": "stdout",
     "output_type": "stream",
     "text": [
      "Bill Id.=101\n",
      "Customer Id.=1001\n",
      "Customer Name=Rahul\n",
      "F_minor=False\n",
      "Bill Amount=2000.5\n"
     ]
    }
   ],
   "source": [
    "bill_id = 101\n",
    "customer_id = 1001\n",
    "customer_name = \"Rahul\"\n",
    "f_minor = False\n",
    "bill_amount = 2000.50\n",
    "print(\"Bill Id.=\"+str(bill_id))\n",
    "print(\"Customer Id.=\"+str(customer_id))\n",
    "print(\"Customer Name=\"+customer_name)\n",
    "print(\"F_minor=\"+str(f_minor))\n",
    "print(\"Bill Amount=\"+str(bill_amount))"
   ]
  },
  {
   "cell_type": "code",
   "execution_count": 10,
   "metadata": {},
   "outputs": [
    {
     "name": "stdout",
     "output_type": "stream",
     "text": [
      "Enter first number=15\n",
      "Enter second number=5\n",
      "Sum = 30\n"
     ]
    }
   ],
   "source": [
    "x=int(input(\"Enter first number=\"))\n",
    "y=int(input(\"Enter second number=\"))\n",
    "x=x + 4\n",
    "y=y + 6\n",
    "print(f\"Sum = {str(x+y)}\")"
   ]
  },
  {
   "cell_type": "code",
   "execution_count": 11,
   "metadata": {},
   "outputs": [
    {
     "name": "stdout",
     "output_type": "stream",
     "text": [
      "Before Swapping\n",
      "a =4\n",
      "b =5\n",
      "After Swapping\n",
      "a =5\n",
      "b =4\n"
     ]
    }
   ],
   "source": [
    "a=4\n",
    "b=5\n",
    "print(\"Before Swapping\")\n",
    "print(f\"a ={str(a)}\")\n",
    "print(f\"b ={str(b)}\")\n",
    "a=a + b\n",
    "b=a - b\n",
    "a=a - b\n",
    "print(\"After Swapping\")\n",
    "print(f\"a ={str(a)}\")\n",
    "print(f\"b ={str(b)}\")"
   ]
  },
  {
   "cell_type": "code",
   "execution_count": 12,
   "metadata": {},
   "outputs": [
    {
     "name": "stdout",
     "output_type": "stream",
     "text": [
      "Marks obtained in first subject:50\n",
      "Marks obtained in second subject:60\n",
      "Marks obtained in third subject:70\n",
      "Average Marks: 60.0\n",
      "Average Marks after: 66.66666666666667\n"
     ]
    }
   ],
   "source": [
    "a=int(input(\"Marks obtained in first subject:\"))\n",
    "b=int(input(\"Marks obtained in second subject:\"))\n",
    "c=int(input(\"Marks obtained in third subject:\"))\n",
    "print(f\"Average Marks: {str((a+b+c)/3)}\")\n",
    "c=c + 20\n",
    "print(f\"Average Marks after: {str((a+b+c)/3)}\")"
   ]
  },
  {
   "cell_type": "code",
   "execution_count": 13,
   "metadata": {},
   "outputs": [
    {
     "name": "stdout",
     "output_type": "stream",
     "text": [
      "Area of Cicle 314.0\n",
      "Perimeter of Circle 62.800000000000004\n"
     ]
    }
   ],
   "source": [
    "r=10\n",
    "print(f\"Area of Cicle {str(3.14*r*r)}\")\n",
    "print(f\"Perimeter of Circle {str(2*3.14*r)}\")"
   ]
  },
  {
   "cell_type": "code",
   "execution_count": 14,
   "metadata": {},
   "outputs": [
    {
     "name": "stdout",
     "output_type": "stream",
     "text": [
      "Monthly pay of the Employee:64000\n"
     ]
    }
   ],
   "source": [
    "no_of_hour=40\n",
    "pay_rate=400\n",
    "no_of_week=4\n",
    "monthly_pay=no_of_hour*pay_rate*no_of_week\n",
    "print(f\"Monthly pay of the Employee:{monthly_pay}\")"
   ]
  },
  {
   "cell_type": "code",
   "execution_count": 15,
   "metadata": {},
   "outputs": [
    {
     "name": "stdout",
     "output_type": "stream",
     "text": [
      "50\n",
      "52\n",
      "54\n",
      "56\n",
      "58\n",
      "60\n",
      "62\n",
      "64\n",
      "66\n",
      "68\n",
      "70\n",
      "72\n",
      "74\n",
      "76\n",
      "78\n",
      "80\n"
     ]
    }
   ],
   "source": [
    "for i in range(50,81):\n",
    "    if i%2==0:\n",
    "        print(i)"
   ]
  },
  {
   "cell_type": "code",
   "execution_count": 16,
   "metadata": {},
   "outputs": [
    {
     "name": "stdout",
     "output_type": "stream",
     "text": [
      "Enter the range of natural no:25\n",
      "325\n"
     ]
    }
   ],
   "source": [
    "a=int(input(\"Enter the range of natural no:\"))\n",
    "sum=0\n",
    "for i in range(1,a + 1):\n",
    "    sum=sum + i\n",
    "print(sum)"
   ]
  },
  {
   "cell_type": "code",
   "execution_count": 19,
   "metadata": {},
   "outputs": [
    {
     "name": "stdout",
     "output_type": "stream",
     "text": [
      "Enter any number39\n",
      "Not Prime\n"
     ]
    }
   ],
   "source": [
    "n=int(input(\"Enter any number\"))\n",
    "check=True\n",
    "for i in range(2,n):\n",
    "    if n%i==0:\n",
    "        print(\"Not Prime\")\n",
    "        check= False\n",
    "        break\n",
    "if(check==True):\n",
    "    print(\"Prime\")"
   ]
  },
  {
   "cell_type": "code",
   "execution_count": 21,
   "metadata": {},
   "outputs": [
    {
     "name": "stdout",
     "output_type": "stream",
     "text": [
      "Enter the number of inputs9\n",
      "0\n",
      "1\n",
      "1\n",
      "2\n",
      "3\n",
      "5\n",
      "8\n",
      "13\n",
      "21\n"
     ]
    }
   ],
   "source": [
    "n=int(input(\"Enter the number of inputs\"))\n",
    "a=0\n",
    "b=1\n",
    "print(a)\n",
    "print(b)\n",
    "for i in range(1,n-1):\n",
    "    c=a + b\n",
    "    print(c)\n",
    "    a=b\n",
    "    b=c"
   ]
  },
  {
   "cell_type": "code",
   "execution_count": null,
   "metadata": {},
   "outputs": [],
   "source": []
  }
 ],
 "metadata": {
  "kernelspec": {
   "display_name": "Python 3",
   "language": "python",
   "name": "python3"
  },
  "language_info": {
   "codemirror_mode": {
    "name": "ipython",
    "version": 3
   },
   "file_extension": ".py",
   "mimetype": "text/x-python",
   "name": "python",
   "nbconvert_exporter": "python",
   "pygments_lexer": "ipython3",
   "version": "3.8.5"
  }
 },
 "nbformat": 4,
 "nbformat_minor": 4
}
