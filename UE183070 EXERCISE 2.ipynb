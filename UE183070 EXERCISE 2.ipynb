{
 "cells": [
  {
   "cell_type": "code",
   "execution_count": 12,
   "metadata": {},
   "outputs": [
    {
     "name": "stdout",
     "output_type": "stream",
     "text": [
      "Enter the sentence for scrambling: Which of these boxes are painted red, green or blue?  \n",
      "==>\n",
      "Simple:-        Which of these boxes are painted red, green or blue?  \n",
      "Scrambled:-     Wchih of teshe boxes are pitaned red, geren or blue? \n"
     ]
    }
   ],
   "source": [
    "# Scrambling the word by - keeping first and last letter intact and scramble all other letters randomly\n",
    "import random\n",
    "from random import shuffle\n",
    "bullet=[\"/\",\"!\",\"?\",\",\",\";\",\".\"]\n",
    "line=input(\"Enter the sentence for scrambling: \")\n",
    "print(\"==>\")\n",
    "print(\"Simple:-        \"+line)\n",
    "result=\"\"\n",
    "for word in line.split():\n",
    "    \n",
    "    if(len(word)<=3):\n",
    "        \n",
    "        result=result+word+\" \"\n",
    "            \n",
    "    else:\n",
    "        \n",
    "        if(word[-1] in extras):\n",
    "            \n",
    "            w1=word[1:-2]\n",
    "            w1=random.sample(w1,len(w1))\n",
    "            w1.insert(0,word[0])\n",
    "            w1.append(word[-2:])\n",
    "            result=result+''.join(w1)+\" \"\n",
    "                \n",
    "        else:\n",
    "            w1=word[1:-1]\n",
    "            w1=random.sample(w1,len(w1))\n",
    "            w1.insert(0,word[0])\n",
    "            w1.append(word[-1])\n",
    "            result=result+''.join(w1)+\" \"\n",
    "                \n",
    "print(\"Scrambled:-     \"+result)"
   ]
  },
  {
   "cell_type": "code",
   "execution_count": 13,
   "metadata": {},
   "outputs": [
    {
     "name": "stdout",
     "output_type": "stream",
     "text": [
      "Enter the sentence for scrambling: can I Print a .pdf file on a printer?\n",
      "==>\n",
      "Simple:-        can I Print a .pdf file on a printer?\n",
      "Scrambled:-     can I Pnrit a .dpf flie on a ptnerir? \n"
     ]
    }
   ],
   "source": [
    "# Scrambling the word by - keeping first and last letter intact and scramble all other letters randomly\n",
    "import random\n",
    "from random import shuffle\n",
    "bullet=[\"/\",\"!\",\"?\",\",\",\";\",\".\"]\n",
    "line=input(\"Enter the sentence for scrambling: \")\n",
    "print(\"==>\")\n",
    "print(\"Simple:-        \"+line)\n",
    "result=\"\"\n",
    "for word in line.split():\n",
    "    \n",
    "    if(len(word)<=3):\n",
    "        \n",
    "        result=result+word+\" \"\n",
    "            \n",
    "    else:\n",
    "        \n",
    "        if(word[-1] in extras):\n",
    "            \n",
    "            w1=word[1:-2]\n",
    "            w1=random.sample(w1,len(w1))\n",
    "            w1.insert(0,word[0])\n",
    "            w1.append(word[-2:])\n",
    "            result=result+''.join(w1)+\" \"\n",
    "                \n",
    "        else:\n",
    "            w1=word[1:-1]\n",
    "            w1=random.sample(w1,len(w1))\n",
    "            w1.insert(0,word[0])\n",
    "            w1.append(word[-1])\n",
    "            result=result+''.join(w1)+\" \"\n",
    "                \n",
    "print(\"Scrambled:-     \"+result)"
   ]
  },
  {
   "cell_type": "code",
   "execution_count": 14,
   "metadata": {},
   "outputs": [
    {
     "name": "stdout",
     "output_type": "stream",
     "text": [
      "Enter the sentence for scrambling: Wow!, That's great idea!\n",
      "==>\n",
      "Simple:-        Wow!, That's great idea!\n",
      "Scrambled:-     Wow!, Ttah's gaert idea! \n"
     ]
    }
   ],
   "source": [
    "# Scrambling the word by - keeping first and last letter intact and scramble all other letters randomly\n",
    "import random\n",
    "from random import shuffle\n",
    "bullet=[\"/\",\"!\",\"?\",\",\",\";\",\".\"]\n",
    "line=input(\"Enter the sentence for scrambling: \")\n",
    "print(\"==>\")\n",
    "print(\"Simple:-        \"+line)\n",
    "result=\"\"\n",
    "for word in line.split():\n",
    "    \n",
    "    if(len(word)<=3):\n",
    "        \n",
    "        result=result+word+\" \"\n",
    "            \n",
    "    else:\n",
    "        \n",
    "        if(word[-1] in extras):\n",
    "            \n",
    "            w1=word[1:-2]\n",
    "            w1=random.sample(w1,len(w1))\n",
    "            w1.insert(0,word[0])\n",
    "            w1.append(word[-2:])\n",
    "            result=result+''.join(w1)+\" \"\n",
    "                \n",
    "        else:\n",
    "            w1=word[1:-1]\n",
    "            w1=random.sample(w1,len(w1))\n",
    "            w1.insert(0,word[0])\n",
    "            w1.append(word[-1])\n",
    "            result=result+''.join(w1)+\" \"\n",
    "                \n",
    "print(\"Scrambled:-     \"+result)"
   ]
  },
  {
   "cell_type": "code",
   "execution_count": null,
   "metadata": {},
   "outputs": [],
   "source": []
  }
 ],
 "metadata": {
  "kernelspec": {
   "display_name": "Python 3",
   "language": "python",
   "name": "python3"
  },
  "language_info": {
   "codemirror_mode": {
    "name": "ipython",
    "version": 3
   },
   "file_extension": ".py",
   "mimetype": "text/x-python",
   "name": "python",
   "nbconvert_exporter": "python",
   "pygments_lexer": "ipython3",
   "version": "3.8.5"
  }
 },
 "nbformat": 4,
 "nbformat_minor": 4
}
