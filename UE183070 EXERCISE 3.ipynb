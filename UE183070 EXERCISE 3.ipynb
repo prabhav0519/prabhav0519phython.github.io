{
 "cells": [
  {
   "cell_type": "code",
   "execution_count": 2,
   "metadata": {},
   "outputs": [
    {
     "name": "stdout",
     "output_type": "stream",
     "text": [
      "sum of elements is the highest of:\n",
      "[10, 11, 12]\n",
      "or\n",
      "sum of elements is the highest of:\n",
      "[10, 11, 12]\n"
     ]
    }
   ],
   "source": [
    "#To find the list in a list of lists whose sum of elements is the highest.\n",
    "list1 = [[1,2,3]]\n",
    "list2 = [[4,5,6]]\n",
    "list3 = [[10,11,12]]\n",
    "list4 = [[7,8,9]]\n",
    "print(\"sum of elements is the highest of:\")\n",
    "print(max(list1+list2+list3+list4, key=sum))\n",
    "\n",
    "print(\"or\")\n",
    "\n",
    "list = [[1,2,3] , [4,5,6] , [10,11,12] , [7,8,9]]\n",
    "print(\"sum of elements is the highest of:\")\n",
    "print(max(list, key=sum))"
   ]
  },
  {
   "cell_type": "code",
   "execution_count": 3,
   "metadata": {},
   "outputs": [
    {
     "name": "stdout",
     "output_type": "stream",
     "text": [
      "B [2, 4, 6, 10, 56, 89]\n",
      "B is a sublist of list A\n",
      "A [1, 2, 3, 4, 5, 6, 7, 8, 9, 10, 25, 67, 89, 60, 56]\n"
     ]
    }
   ],
   "source": [
    "#To check whether a list contains a sublist.\n",
    "\n",
    "A = [1,2,3,4,5,6,7,8,9,10,25,67,89,60,56]\n",
    "B = [2,4,6,10,56,89]\n",
    "\n",
    "check =  all(num in A for num in B)\n",
    " \n",
    "if check is True:\n",
    "    print(\"B {}\".format(B, A))     \n",
    "    print(\"B is a sublist of list A\")\n",
    "    print(\"A {}\".format(A, B)) \n",
    "else :\n",
    "    print(\"No, B is not a sublist of list A.\")"
   ]
  },
  {
   "cell_type": "code",
   "execution_count": null,
   "metadata": {},
   "outputs": [],
   "source": []
  }
 ],
 "metadata": {
  "kernelspec": {
   "display_name": "Python 3",
   "language": "python",
   "name": "python3"
  },
  "language_info": {
   "codemirror_mode": {
    "name": "ipython",
    "version": 3
   },
   "file_extension": ".py",
   "mimetype": "text/x-python",
   "name": "python",
   "nbconvert_exporter": "python",
   "pygments_lexer": "ipython3",
   "version": "3.8.5"
  }
 },
 "nbformat": 4,
 "nbformat_minor": 4
}
